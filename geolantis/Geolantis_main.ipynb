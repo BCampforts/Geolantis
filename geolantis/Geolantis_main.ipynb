{
 "cells": [
  {
   "cell_type": "markdown",
   "id": "506994de-8200-4186-a347-5c69c561c0fa",
   "metadata": {},
   "source": [
    "<div style=\"text-align: center;\">\n",
    "    <img src=\"media/landscape.png\" width=\"200\" style=\"display: block; margin: 0 auto;\" />\n",
    "</div>\n",
    "\n",
    "## Geolantis: Base model\n",
    "In this notebook, we will develop the common base model, everyone will build from. \n",
    "Try to make a landscape evolution model in it's purest form: add uplift and erosion only and use the relevant components to do so. \n",
    "Here, we will use the the most basic fluvial incision components: the `FastscapeEroder`. "
   ]
  },
  {
   "cell_type": "code",
   "execution_count": null,
   "id": "250a2c9f-11e9-4d39-99c5-30e60b9925ba",
   "metadata": {},
   "outputs": [],
   "source": []
  },
  {
   "cell_type": "markdown",
   "id": "41ea5a90-02ca-480f-b3d2-194be6dcd315",
   "metadata": {},
   "source": [
    "Import the right packages. Think about model grids, plotting, a package to erode the landscape etc. "
   ]
  },
  {
   "cell_type": "markdown",
   "id": "d37832fe-86e2-4f9f-a02d-e85aa6231462",
   "metadata": {},
   "source": [
    "Create the grid. Agree on a good dimensions among your peers(think of dimensions and resolution)"
   ]
  },
  {
   "cell_type": "code",
   "execution_count": null,
   "id": "79c0b27c-97d1-45e7-bfbb-9b13ddcea4b3",
   "metadata": {},
   "outputs": [],
   "source": []
  },
  {
   "cell_type": "markdown",
   "id": "c2d893d9-b52b-402d-9677-c5921d2d3784",
   "metadata": {},
   "source": [
    "Create topographic data field and add random noise "
   ]
  },
  {
   "cell_type": "code",
   "execution_count": null,
   "id": "d4a33102-a6e4-4b7e-bfd5-a7d9ef817748",
   "metadata": {},
   "outputs": [],
   "source": []
  },
  {
   "cell_type": "markdown",
   "id": "d850632b-596a-4a24-a63b-434ccf42989b",
   "metadata": {},
   "source": [
    "Plot the initial topography "
   ]
  },
  {
   "cell_type": "code",
   "execution_count": null,
   "id": "594d5aeb-f0ab-407b-a0e7-a3878519704a",
   "metadata": {},
   "outputs": [],
   "source": []
  },
  {
   "cell_type": "markdown",
   "id": "43da9a75-2002-4b34-9d97-a928c95358b6",
   "metadata": {},
   "source": [
    "Instantiate model components (eroder,...)"
   ]
  },
  {
   "cell_type": "code",
   "execution_count": null,
   "id": "4410ad7c-13a7-49c0-a7eb-13ce433053a2",
   "metadata": {},
   "outputs": [],
   "source": []
  },
  {
   "cell_type": "markdown",
   "id": "ed6b2679-4207-4db0-b9f5-e043a12053d9",
   "metadata": {},
   "source": [
    "Run the model "
   ]
  },
  {
   "cell_type": "code",
   "execution_count": null,
   "id": "3805a2b4-fede-4b63-b8a3-20887151438f",
   "metadata": {},
   "outputs": [],
   "source": []
  },
  {
   "cell_type": "raw",
   "id": "be4b9e96-f7a0-4821-92df-93ecb9c05710",
   "metadata": {},
   "source": [
    "Plot results"
   ]
  },
  {
   "cell_type": "code",
   "execution_count": null,
   "id": "ea8b0a0c-7783-4c23-8fa1-5950f50a5e47",
   "metadata": {},
   "outputs": [],
   "source": []
  }
 ],
 "metadata": {
  "kernelspec": {
   "display_name": "Python 3 (ipykernel)",
   "language": "python",
   "name": "python3"
  },
  "language_info": {
   "codemirror_mode": {
    "name": "ipython",
    "version": 3
   },
   "file_extension": ".py",
   "mimetype": "text/x-python",
   "name": "python",
   "nbconvert_exporter": "python",
   "pygments_lexer": "ipython3",
   "version": "3.12.6"
  }
 },
 "nbformat": 4,
 "nbformat_minor": 5
}
