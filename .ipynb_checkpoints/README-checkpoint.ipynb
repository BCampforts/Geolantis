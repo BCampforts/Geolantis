{
 "cells": [
  {
   "attachments": {},
   "cell_type": "markdown",
   "id": "b56d3d13",
   "metadata": {},
   "source": [
    "![VU evolving landscapes](./media/evolving_landscapes.png)\n",
    "\n",
    "<!-- Links -->\n",
    "\n",
    "[badge]: https://img.shields.io/badge/Run%20on-EarthscapeHub-orange\n",
    "[landlab]: landlab/00_welcome.ipynb\n",
    "[geolantis]: geolantis/Geolantis_main.ipynb\n",
    "[jhub-link]: https://hub4.compute.vu.nl/hub/user-redirect/git-pull?repo=https%3A%2F%2Fgithub.com%2FBCampforts%2FGeolantis&urlpath=lab%2Ftree%2FGeolantis%2FREADME.ipynb&branch=main\n",
    "[csdms-ivy]: https://github.com/csdms/ivy\n",
    "\n",
    "# Geolantis\n",
    "\n",
    "VU Geolantis contains a selected number of notebooks providing an introduction to landscape evolution modeling. \n",
    "Part of this material is based on content written and maintained by the \n",
    "[Community Surface Dynamics Modeling System ](https://csdms.colorado.edu)(CSDMS).For more extensive notebooks and background, see the [CSDMS Ivy collection][csdms-ivy].\n",
    "\n",
    "## Goal\n",
    "*What?* Through the Geolantis project, students will investigate the question how tectonic and climate variability are expressed and preserved in topography. \n",
    "\n",
    "*How?* The goal of these sessions is to become familiar to landscape evolution modeling software. Students will work in groups on selected topics and processes influencing the evolution of landscapes. Each group will investigate a selected number of processes. A shared report will document findings.\n",
    "\n",
    "*Who?* You! I am only providing a rough framework on how to do this. It is up to you and your creativity to get the details right. \n",
    "\n",
    "*When?* Common sessions on Monday, Wednesday and Friday. Finalizing the report and final model before deadline. \n",
    "\n",
    "## Introduction notebooks\n",
    "\n",
    "1. [Landlab][landlab]\n",
    "2. [Geolantis][geolantis]\n",
    "\n",
    "The lessons can be run locally\n",
    "if a user installs Anaconda and a `git` client on their computer.\n",
    "All lessons are also available to run\n",
    "on [VU JupyterHub][jhub].\n",
    "Click this button:\n",
    "\n",
    "[![Run on VU JupyterHub][badge]][jhub-link]\n",
    "\n",
    "to open the lessons directly on the VU JupyterHub instance!\n",
    "\n",
    "> **Note:** The VU JupyterHub *lab* instance is password-protected and can only be accessed by students and personnel at VU Amsterdam.\n",
    "\n",
    "## Contributing\n",
    "\n",
    "Geolantis is  an open source project [with contributions from referenced people](./AUTHORS.rst).\n",
    "If you use the VU evolving landscapes course material, please [cite](./CITATION.cff) it. Contributions are highly welcome and can be submitted through issues on the GitHub page. \n"
   ]
  },
  {
   "cell_type": "code",
   "execution_count": null,
   "id": "6a4290cf",
   "metadata": {},
   "outputs": [],
   "source": []
  }
 ],
 "metadata": {
  "jupytext": {
   "cell_metadata_filter": "-all",
   "main_language": "python",
   "notebook_metadata_filter": "-all"
  },
  "kernelspec": {
   "display_name": "Python 3 (ipykernel)",
   "language": "python",
   "name": "python3"
  },
  "language_info": {
   "codemirror_mode": {
    "name": "ipython",
    "version": 3
   },
   "file_extension": ".py",
   "mimetype": "text/x-python",
   "name": "python",
   "nbconvert_exporter": "python",
   "pygments_lexer": "ipython3",
   "version": "3.12.6"
  }
 },
 "nbformat": 4,
 "nbformat_minor": 5
}
