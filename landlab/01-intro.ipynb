{
 "cells": [
  {
   "cell_type": "markdown",
   "metadata": {},
   "source": [
    "<img src=\"media/evolving_landscapes.png\"\n",
    "     width = \"850\"\n",
    "     height = auto />\n",
    "     \n",
    "<!-- /Users/bca/Library/CloudStorage/OneDrive-VrijeUniversiteitAmsterdam/Didactisch/SourceToSink/Geolantis/media/evolving_landscapes.png -->\n"
   ]
  },
  {
   "cell_type": "markdown",
   "metadata": {
    "tags": [
     "toc"
    ]
   },
   "source": [
    "# Table of Contents\n",
    "* [Introduction to Landlab: Grids and simple 2D models](#Introduction-to-Landlab:-Grids-and-simple-2D-models)\n",
    "  * [What types of problems can Landlab solve?](#What-types-of-problems-can-Landlab-solve?)\n",
    "  * [What you need to know about Landlab grids](#What-you-need-to-know-about-Landlab-grids)\n",
    "    * [Grid elements](#Grid-elements)\n",
    "    * [Explore the Landlab grids](#Explore-the-Landlab-grids)\n",
    "      * [Nodes](#Nodes)"
   ]
  },
  {
   "cell_type": "markdown",
   "metadata": {},
   "source": [
    "# Introduction to Landlab: Grids and simple 2D models\n",
    "\n",
    "This tutorial will introduce you to the basics of Landlab grids. By the end, you will have a basic understanding of the following:\n",
    "\n",
    "- The elements that comprise a landlab grid\n",
    "- The numbering of grid elements \n",
    "- How to instantiate different types and sizes of landlab grids\n",
    "- How to attach fields to grids and set boundary conditions\n",
    "- How to perform basic calculations across the grid\n",
    "\n",
    "The tutorial concludes with an (optional / time-permitting) example of how we can rapidly construct a simple, two-dimensional diffusion model on a Landlab raster grid. \n",
    "\n",
    "Time-permitting, we may also learn how to instantiate a component that will replicate the diffusion model for us."
   ]
  },
  {
   "cell_type": "markdown",
   "metadata": {},
   "source": [
    "## What types of problems can Landlab solve?\n",
    "\n",
    "Landlab is great for a variety of earth science problems that have one thing in common: routing a flow across a grid. In today's clinic, we'll see how Landlab handles the gradient calculations that are central to driving many earth (or planetary!) surface processes.\n",
    "\n",
    "<img src=\"./media/flow_examples.png\"\n",
    "     width = \"600\"\n",
    "     height = auto />\n",
    "     \n",
    "     \n",
    "     \n"
   ]
  },
  {
   "cell_type": "markdown",
   "metadata": {},
   "source": [
    "\n",
    "## What you need to know about Landlab grids\n",
    "\n",
    "Landlab model grids are 2D data structures that represent the model domain. A few things to know about grid management:\n",
    "\n",
    "- Grids are Python <i>objects</i>\n",
    "- Grids use flat arrays\n",
    "- Grids are comprised of <i>elements</i> such as nodes and links (see Figure)\n",
    "- Grids are generated from the user-specified geometry of nodes\n",
    "- Data fields can be attached to grid elements\n",
    "- Methods are functions to perform operations on the data fields\n",
    "- There are regular (raster, radial, and hexgonal) and irregular (Voronoi-Delauney) grid types\n",
    "- Grids have some built-in numerical functions, such as gradient and divergence\n",
    "\n",
    "\n",
    "<img src=\"./media/Grids1.png\"/>\n",
    "\n",
    "**Figure** Geometry and topology of grid elements on various Landlab grids ([Hobley et al. 2017](https://esurf.copernicus.org/articles/5/21/2017/))\n",
    "\n",
    "-- [Interactive sketchbook](https://landlab.github.io/grid-sketchbook/)"
   ]
  },
  {
   "cell_type": "markdown",
   "metadata": {},
   "source": [
    "### Grid elements\n",
    "\n",
    "As we see in the above figure, Landlab grids are composed of six different grid elements:\n",
    "*node*, *links*, *patches*, *corners*, *faces*, and *cells*. The most popular of these\n",
    "are *nodes*, *links*, and *cells*.\n",
    "\n",
    "In brief,\n",
    "* *nodes* are points that have *x* and *y* coordinates.\n",
    "* *links* are edges that connect two *nodes*.\n",
    "* *cells* are polygons that surround single *nodes*."
   ]
  },
  {
   "cell_type": "markdown",
   "metadata": {},
   "source": [
    "### Explore the Landlab grids\n",
    "\n",
    "First let's look at the different types of grids Landlab supports. The most common is the `RasterModelGrid`, but Landlab offers other grid types useful for different applications. We'll start by importing a couple of different grid types, and seeing how we can create new grids from those types.\n",
    "\n",
    "The following code imports several grids as well as a function we will use to have a quick look at what these grids look like.\n",
    "\n",
    "---\n",
    "\n",
    "**More complete descriptions of these grid types can be found in [Landlab's documentation](https://landlab.readthedocs.io/en/master/user_guide/grid.html).**\n",
    "\n",
    "---"
   ]
  },
  {
   "cell_type": "code",
   "execution_count": null,
   "metadata": {},
   "outputs": [],
   "source": [
    "from landlab import RasterModelGrid\n",
    "from landlab.plot.graph import plot_graph"
   ]
  },
  {
   "cell_type": "markdown",
   "metadata": {},
   "source": [
    "These are all Python <i>classes</i>, and the instances we create of those classes will be our grid <i>objects</i>. For starters, we'll get some basic information on `RasterModelGrid`. Then we'll create an instance of the class `RasterModelGrid` with 3 rows, 4 columns, and 10-unit grid spacing."
   ]
  },
  {
   "cell_type": "markdown",
   "metadata": {
    "tags": []
   },
   "source": [
    "?RasterModelGrid"
   ]
  },
  {
   "cell_type": "markdown",
   "metadata": {},
   "source": [
    "#### Nodes\n",
    "\n",
    "*nodes* are simply points that have *x* and *y* coordinates. Different grid types simply lay out\n",
    "*nodes* in different ways.\n",
    "\n",
    "Below we create a `RasterModelGrid` that has four rows and 5 columns of nodes."
   ]
  },
  {
   "cell_type": "code",
   "execution_count": null,
   "metadata": {},
   "outputs": [],
   "source": [
    "grid = RasterModelGrid((4, 5), xy_spacing=(10, 5))\n",
    "plot_graph(grid, at=\"node\")"
   ]
  },
  {
   "cell_type": "markdown",
   "metadata": {},
   "source": [
    "The grid has also created a data structure that stores the *x* and *y* coordinates for each\n",
    "*node*: `xy_of_node` (you can also use `x_of_node` and `y_of_node`, which simply point to the\n",
    "respective columns of `xy_of_node`).\n",
    "\n",
    "You access these data structures as attributes of the grid (regardless of the grid type)."
   ]
  },
  {
   "cell_type": "code",
   "execution_count": null,
   "metadata": {},
   "outputs": [],
   "source": [
    "grid.xy_of_node"
   ]
  },
  {
   "cell_type": "code",
   "execution_count": null,
   "metadata": {},
   "outputs": [],
   "source": [
    "grid.x_of_node, grid.y_of_node"
   ]
  },
  {
   "cell_type": "markdown",
   "metadata": {},
   "source": [
    "1. Look to see how the nodes are numbered and how those numbers correspond to rows of the\n",
    "   `xy_of_node` matrix. **All grid elements are numbered in this way.**\n",
    "2. Notice that these arrays are not \"shaped\" as they appear on the grid. For example, `x_of_node`\n",
    "   is a flat array of length *n_nodes*, not a matrix with shape `(n_rows, n_cols)`.\n",
    "   **All of a grid's element data structures are flattened like this.**\n"
   ]
  },
  {
   "cell_type": "markdown",
   "metadata": {},
   "source": [
    "### Let's practice this "
   ]
  },
  {
   "cell_type": "markdown",
   "metadata": {},
   "source": [
    "Create a `RasterModelGrid` that has six rows and 3 columns of nodes. Plot the result."
   ]
  },
  {
   "cell_type": "code",
   "execution_count": null,
   "metadata": {},
   "outputs": [],
   "source": [
    "grid = RasterModelGrid((6, 3), xy_spacing=(10, 5))\n",
    "plot_graph(grid, at=\"node\")"
   ]
  },
  {
   "cell_type": "markdown",
   "metadata": {
    "tags": [
     "solution"
    ]
   },
   "source": [
    "<details>\n",
    "    <summary>👉 <b>click to see solution</b></summary>\n",
    "\n",
    "```python\n",
    "# Create a hex grid that has 5 rows and 4 colums of nodes.\n",
    "grid = RasterModelGrid((6, 3), xy_spacing=(10, 5))\n",
    "plot_graph(grid, at=\"node\")\n",
    "```\n",
    "</details>"
   ]
  },
  {
   "cell_type": "markdown",
   "metadata": {},
   "source": [
    "Write a piece of code to calculate the x and y coordinates of the node in the second columns at the second row from the bottom. "
   ]
  },
  {
   "cell_type": "code",
   "execution_count": null,
   "metadata": {},
   "outputs": [],
   "source": []
  },
  {
   "cell_type": "markdown",
   "metadata": {
    "tags": [
     "solution"
    ]
   },
   "source": [
    "<details>\n",
    "    <summary>👉 <b>click to see solution</b></summary>\n",
    "\n",
    "```python\n",
    "# From the plot above, we can infer that we are looking for the coordinates of node 4\n",
    "x,y = grid.x_of_node[4], grid.y_of_node[4]\n",
    "print('x coordiante is %i'%x)\n",
    "print('y coordiante is %i'%y)\n",
    "```\n",
    "</details>"
   ]
  },
  {
   "cell_type": "markdown",
   "metadata": {},
   "source": [
    "Next, write this code as such that we don't need to read the number of the node from the chart but in a general way so that you just insert the row and column number and that your code returns the node number and its coordinates. Test for e.g. the 4th row and the 3th column."
   ]
  },
  {
   "cell_type": "code",
   "execution_count": null,
   "metadata": {},
   "outputs": [],
   "source": []
  },
  {
   "cell_type": "markdown",
   "metadata": {
    "tags": [
     "solution"
    ]
   },
   "source": [
    "<details>\n",
    "    <summary>👉 <b>click to see solution</b></summary>\n",
    "\n",
    "```python\n",
    "row_number = 3 #Why is it 3 and not 4???\n",
    "col_number = 2\n",
    "\n",
    "grid_node = row_number*grid.number_of_node_columns+col_number\n",
    "print('grid node is %i'%grid_node)\n",
    "x,y = grid.x_of_node[grid_node], grid.y_of_node[grid_node]\n",
    "print('x coordiante is %i'%x)\n",
    "print('y coordiante is %i'%y)\n",
    "```\n",
    "</details>"
   ]
  },
  {
   "cell_type": "markdown",
   "metadata": {},
   "source": [
    "### Fabulous, let's move on to links and cells \n",
    "👉 [More grid elements](02-links-cells.ipynb)"
   ]
  }
 ],
 "metadata": {
  "anaconda-cloud": {},
  "celltoolbar": "Tags",
  "kernelspec": {
   "display_name": "Python 3 (ipykernel)",
   "language": "python",
   "name": "python3"
  },
  "language_info": {
   "codemirror_mode": {
    "name": "ipython",
    "version": 3
   },
   "file_extension": ".py",
   "mimetype": "text/x-python",
   "name": "python",
   "nbconvert_exporter": "python",
   "pygments_lexer": "ipython3",
   "version": "3.12.6"
  }
 },
 "nbformat": 4,
 "nbformat_minor": 4
}
