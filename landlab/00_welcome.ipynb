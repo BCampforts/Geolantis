{
 "cells": [
  {
   "cell_type": "markdown",
   "metadata": {},
   "source": [
    "<img src=\"media/evolving_landscapes.png\"\n",
    "     width = \"850\"\n",
    "     height = auto />"
   ]
  },
  {
   "cell_type": "markdown",
   "metadata": {},
   "source": [
    "# Landlab\n",
    "\n",
    "Landlab is an open-source Python-language package for numerical modeling of Earth surface dynamics.\n",
    "It contains:\n",
    "\n",
    "*  A gridding engine which represents the model domain. Regular and irregular grids are supported.\n",
    "*  A library of process components, each of which represents a physical process (e.g., generation\n",
    "   of rain, erosion by flowing water). These components have a common interface and can be combined\n",
    "   based on a user's needs.\n",
    "*  Utilities that support general numerical methods, file input/output, and visualization.\n"
   ]
  },
  {
   "cell_type": "markdown",
   "metadata": {},
   "source": [
    "## Introduction to landlab\n",
    "\n",
    "* [Introduction to *Landlab* grids](01-intro.ipynb)\n",
    "  * The different types of grids\n",
    "  * Grid elements: *nodes*\n",
    "\n",
    "* [Data fields](02-data.ipynb)\n",
    "  * Attaching data to a *Landlab* grid\n",
    "  * Reading data into a *Landlab* grid\n",
    "\n",
    "* [More grid elements](03-links-cells.ipynb)\n",
    "  * Grid elements: *links*\n",
    "  * Grid elements: *cells*\n",
    "\n",
    "* [Numerics](04-numerics.ipynb)\n",
    "  * Calculations on a grid elements\n",
    "  * Example: Fault scarp\n",
    "\n",
    "* [Components](05-components.ipynb)\n",
    "  * Calculations on a grid elements\n",
    "  * Example: Fault scarp\n",
    "\n",
    "**For more Landlab tutorials, click here:** <a href=\"https://landlab.readthedocs.io/en/latest/user_guide/tutorials.html\">https://landlab.readthedocs.io/en/latest/user_guide/tutorials.html</a></small>\n"
   ]
  },
  {
   "cell_type": "markdown",
   "metadata": {},
   "source": [
    "## Links\n",
    "\n",
    "* Reference\n",
    "  * [Documentation](https://landlab.readthedocs.io)\n",
    "  * [Source code](https://github.com/landlab/landlab)\n",
    "* Ask for help\n",
    "  * [Issues on GitHub](https://github.com/landlab/landlab/issues)\n",
    "  * [CSDMS Help Desk](https://csdms.github.io/help-desk)"
   ]
  },
  {
   "cell_type": "code",
   "execution_count": null,
   "metadata": {},
   "outputs": [],
   "source": []
  }
 ],
 "metadata": {
  "kernelspec": {
   "display_name": "Python 3 (ipykernel)",
   "language": "python",
   "name": "python3"
  },
  "language_info": {
   "codemirror_mode": {
    "name": "ipython",
    "version": 3
   },
   "file_extension": ".py",
   "mimetype": "text/x-python",
   "name": "python",
   "nbconvert_exporter": "python",
   "pygments_lexer": "ipython3",
   "version": "3.12.6"
  }
 },
 "nbformat": 4,
 "nbformat_minor": 4
}
