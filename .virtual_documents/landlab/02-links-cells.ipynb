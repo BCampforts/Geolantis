








from landlab import RasterModelGrid
from landlab.plot import plot_graph

grid = RasterModelGrid((4, 5), xy_spacing=(1, 0.5))
plot_graph(grid, at="node,link")





grid.nodes_at_link


grid.node_at_link_tail, grid.node_at_link_head





grid.links_at_node











grid = RasterModelGrid((4, 5), xy_spacing=(1, 0.5))
plot_graph(grid, at="node,link")


grid = RasterModelGrid((4, 5), xy_spacing=(1, 0.5))
plot_graph(grid, at="cell")



