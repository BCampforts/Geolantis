





from landlab import RasterModelGrid
from landlab.plot import plot_graph





grid = RasterModelGrid((3, 4), xy_spacing=(10.0, 5.0))
plot_graph(grid, at="node")





z = grid.add_ones("z", at="node")
z[(5, 6),] = 2
z.reshape((3, 4))


grad = grid.calc_grad_at_link("z")





grad[grid.horizontal_links].reshape((3, 3))





grad[grid.vertical_links].reshape((2, 4))





from landlab import RasterModelGrid

grid = RasterModelGrid((32, 32), xy_spacing=(1.0, 1.0))

z = grid.zeros(at="node")
z[grid.y_of_node > 16] = 1.0

grid.status_at_node[grid.nodes_at_left_edge] = grid.BC_NODE_IS_CLOSED
grid.status_at_node[grid.nodes_at_right_edge] = grid.BC_NODE_IS_CLOSED

grid.imshow(z)





D = 0.1
dt = 0.2 * grid.length_of_link.min() ** 2 / D

print(f"Time step = {dt}")





qs = grid.zeros(at="link")
for _ in range(128):
    slope = grid.calc_grad_at_link(z)
    qs[grid.active_links] = -D * slope[grid.active_links]

    dzdt = -grid.calc_flux_div_at_node(qs)
    z[grid.core_nodes] += dzdt[grid.core_nodes] * dt


grid.imshow(z, at="node")


import matplotlib.pyplot as plt

plt.plot(z[grid.nodes_at_left_edge + 1])



