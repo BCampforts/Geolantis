




















from landlab import RasterModelGrid
from landlab.plot.graph import plot_graph











grid = RasterModelGrid((4, 5), xy_spacing=(10, 5))
plot_graph(grid, at="node")





grid.xy_of_node


grid.x_of_node, grid.y_of_node











grid = RasterModelGrid((6, 3), xy_spacing=(10, 5))
plot_graph(grid, at="node")
























