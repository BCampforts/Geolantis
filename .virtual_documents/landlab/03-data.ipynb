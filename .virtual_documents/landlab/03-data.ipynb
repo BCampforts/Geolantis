








from landlab import RasterModelGrid

grid = RasterModelGrid((4, 5))
grid.add_zeros("foo", at="node")
grid.at_node["bar"] = [1.0] * grid.number_of_nodes





print(f"All at-node fields: {list(grid.at_node)!r}")





grid.at_node.keys()





grid.fields()





grid.at_node["foo"]














from landlab.io import read_esri_ascii

(grid, z) = read_esri_ascii("data/square-test-basin.asc", name="topographic__elevation")


grid.imshow("topographic__elevation")





grid.spacing








from bmi_topography import Topography


?Topography





lat, lon = (40.2530073213, -105.609067564)  # Longs Peak
height, width = 7.5 / 60.0, 7.5 / 60.0

longs_peak_dem = Topography(
    north=lat + height,
    south=lat - height,
    east=lon + width,
    west=lon - width,
    output_format="GTiff",
    dem_type="SRTMGL3",
)
longs_peak = longs_peak_dem.load()





longs_peak.values.shape


longs_peak.values.min(), longs_peak.values.max()











import numpy as np
from landlab import RasterModelGrid

z = np.flipud(longs_peak.values.squeeze())
grid = RasterModelGrid(z.shape, xy_spacing=(70.0, 90.0))
grid.at_node["topographic__elevation"] = z








grid.imshow("topographic__elevation", cmap="terrain", vmin=0)
import matplotlib.pyplot as plt
plt.show()












