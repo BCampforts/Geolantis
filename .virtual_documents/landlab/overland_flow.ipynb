











import numpy as np
from landlab.components.overland_flow import OverlandFlow
from landlab.io.esri_ascii import read_esri_ascii
from matplotlib.pyplot import figure





run_time = 100  # duration of run, (s)
h_init = 0.1  # initial thin layer of water (m)
n = 0.01  # roughness coefficient, (s/m^(1/3))
g = 9.8  # gravity (m/s^2)
alpha = 0.7  # time-step factor (nondimensional; from Bates et al., 2010)
u = 0.4  # constant velocity (m/s, de Almeida et al., 2012)





elapsed_time = 1.0





rmg, z = read_esri_ascii("data/square-test-basin.asc", name="topographic__elevation")
rmg.set_closed_boundaries_at_grid_edges(True, True, True, True)

# un-comment these two lines for a "real" DEM
# rmg, z = read_esri_ascii('data/hugo_site.asc', name='topographic__elevation')
# rmg.status_at_node[z<0.0] = rmg.BC_NODE_IS_CLOSED





np.all(rmg.at_node["topographic__elevation"] == z)





# This DEM was generated using Landlab and the outlet node ID was known
my_outlet_node = 100
rmg.status_at_node[my_outlet_node] = rmg.BC_NODE_IS_FIXED_VALUE





rmg.add_full("surface_water__depth", h_init, at="node")  # water depth (m)





rmg.imshow("topographic__elevation")  # , vmin=1650.0)





# for stability in steeper environments, we set the steep_slopes flag to True
of = OverlandFlow(rmg, steep_slopes=True)





?of.overland_flow


from tqdm import tqdm

elapsed_time = 1.0
with tqdm(total=run_time) as pbar:
    while elapsed_time < run_time:
        # First, we calculate our time step.
        dt = of.calc_time_step()
        if elapsed_time + dt > run_time:
            dt = run_time - elapsed_time

        # Now, we can generate overland flow.
        of.overland_flow(dt=dt)

        elapsed_time += dt
        pbar.update(dt)


rmg.imshow("surface_water__depth", cmap="Blues")





from itertools import pairwise

for start, stop in pairwise([0, 10, 50, 100]):
    of.overland_flow(dt=stop - start)

    figure()
    rmg.imshow("surface_water__depth", cmap="Blues")



