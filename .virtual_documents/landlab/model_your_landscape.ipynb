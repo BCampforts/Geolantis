


# Import packages
from landlab.components import FastscapeEroder, LinearDiffuser, PriorityFloodFlowRouter
from landlab import RasterModelGrid, imshowhs_grid, imshow_grid
import numpy as np
import matplotlib.pyplot as plt











mg = RasterModelGrid((20,20), 100)
z = mg.add_ones('topographic__elevation', at = 'node')
z[mg.core_nodes]+= np.random.rand(len(z[mg.core_nodes]))

imshow_grid(mg, 'topographic__elevation')


FR = PriorityFloodFlowRouter(mg, update_flow_depressions=True, flow_metric='D4')

K_sp= 0.001
m= .5
n=1

fluvial_incision = FastscapeEroder(mg, K_sp = K_sp, m_sp=m ,n_sp =n)
linear_diffusion = LinearDiffuser(mg, linear_diffusivity=0.01)

time = 0
total_time = 1e5
dt = 25
U = 0.001
while time<total_time: 
    time += dt
    mg.at_node['topographic__elevation'][mg.core_nodes] += U*dt
    
    FR.run_one_step()
    fluvial_incision.run_one_step(dt = dt)
#     linear_diffusion.run_one_step(dt = 100)
plt.show()
imshow_grid(mg, 'topographic__elevation')  






plt.figure()
plt.scatter(mg.at_node['drainage_area'][mg.core_nodes], mg.at_node['topographic__steepest_slope'][mg.core_nodes])
plt.xscale('log')
plt.yscale('log')

S_an = np.power((U/(K_sp*np.power(mg.at_node['drainage_area'][mg.core_nodes],m))),1/n)
plt.plot(mg.at_node['drainage_area'][mg.core_nodes],S_an)
plt.show()





from landlab.components import FastscapeEroder, LinearDiffuser, PriorityFloodFlowRouter


mg = RasterModelGrid((100,200), 100)
z = mg.add_ones('topographic__elevation', at = 'node')
z+= np.random.rand(len(z))

FR = PriorityFloodFlowRouter(mg, update_flow_depressions=True, flow_metric='D4')

K_sp= 0.001
m= .5
n=1

fluvial_incision = FastscapeEroder(mg, K_sp = K_sp, m_sp=m ,n_sp =n)
linear_diffusion = LinearDiffuser(mg, linear_diffusivity=0.01)

time = 0
total_time = 1e6
dt = 200
U = 0.001
while time<total_time: 
    time += dt
    mg.at_node['topographic__elevation'][mg.core_nodes] += U*dt
    
    FR.run_one_step()
    fluvial_incision.run_one_step(dt = dt)
#     linear_diffusion.run_one_step(dt = 100)


imshowhs_grid(mg, 'topographic__elevation',altdeg = 1)    


mg = RasterModelGrid((100,250), 100)
z = mg.add_ones('topographic__elevation', at = 'node')
z+= np.random.rand(len(z))*10

# Create a 100x200 raster with zeros
raster = np.zeros((100, 250))



raster[ 5:20,10:65] = 1
raster[ 20:80,10:25] = 1
raster[ 5:60,50:65] = 1
raster[ 80:95,10:65] = 1
raster[ 45:60,40:75] = 1


raster[ 5:20,100:155] = 1
raster[ 42:57,100:150] = 1
raster[ 80:95,100:155] = 1
raster[ 5:95,100:115] = 1


raster[ 5:20,180:235] = 1
raster[ 5:95,180:195] = 1
raster[ 5:95,220:235] = 1
raster[ 80:95,180:235] = 1


U = np.zeros_like(z)

U_cst = 0.0001
U_rapid = 0.0003
U = np.reshape(raster,len(z))*U_rapid
U[U != U_rapid] = U_cst
U[mg.boundary_nodes] = 0
# Display uplift pattern 
imshow_grid(mg, U)
plt.show()

FR = PriorityFloodFlowRouter(mg, update_flow_depressions=True, flow_metric='D4')

K_sp= 0.00001
m= .5
n=1

fluvial_incision = FastscapeEroder(mg, K_sp = K_sp, m_sp=m ,n_sp =n)
linear_diffusion = LinearDiffuser(mg, linear_diffusivity=0.01)

time = 0
total_time = 1e6
dt = 500

# imshow_grid(mg, U)    
plt.show()
while time<total_time: 
    time += dt
    if time<total_time/2:
        mg.at_node['topographic__elevation'][mg.core_nodes] += U_cst*dt
    else:
        mg.at_node['topographic__elevation'][mg.core_nodes] += U[mg.core_nodes]*dt
    
    FR.run_one_step()
    fluvial_incision.run_one_step(dt = dt)
#     linear_diffusion.run_one_step(dt = 100)

    if np.mod(time, 2e4)==0: 
        imshowhs_grid(mg, 'topographic__elevation',altdeg=0,azdeg = 90,cmap = 'terrain' )  
        # plt.title('Run time is %i in kyr'%int(time/1e3))
        plt.savefig('figures/figure' +str(time) + '.png')
        plt.show()


import os, re
import matplotlib.pyplot as plt
import matplotlib.animation as animation

def make_gif(input_folder, output_gif, duration=500):
    # Collect all image files and sort them numerically based on numbers in filenames
    image_files = sorted(
        [os.path.join(input_folder, file_name)
         for file_name in os.listdir(input_folder)
         if file_name.lower().endswith(('.png', '.jpg', '.jpeg', '.bmp'))],
        key=lambda x: int(re.findall(r'\d+', os.path.basename(x))[0])  # Sort by first number found in filename
    )

    # Check if there are any images in the list
    if not image_files:
        print("No images found in the specified folder.")
        return

    # Create a figure for displaying images
    fig = plt.figure()
    
    # Read all images and append to frames
    frames = []
    for image_file in image_files:
        img = plt.imread(image_file)
        frame = [plt.imshow(img, animated=True)]
        frames.append(frame)

    # Create the animation
    ani = animation.ArtistAnimation(fig, frames, interval=duration, blit=True)

    # Save as a GIF
    ani.save(output_gif, writer='pillow', fps=1000 // duration)
    print(f"GIF saved as {output_gif}")

# Specify the folder containing images and the output GIF file name
input_folder = 'figures'
output_gif = 'output.gif'

# Create the GIF
make_gif(input_folder, output_gif, duration=10)




