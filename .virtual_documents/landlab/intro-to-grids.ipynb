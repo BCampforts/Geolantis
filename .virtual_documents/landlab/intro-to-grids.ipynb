

















from landlab import HexModelGrid, RasterModelGrid
from landlab.plot.graph import plot_graph





# get info on RasterModelGrid
?RasterModelGrid


# create a grid instance
rmg = RasterModelGrid((3, 4), 10)





# visualize nodes
plot_graph(rmg, at="node")





# visualize links





# visualize cells








# create hexagonal grid
hmg = HexModelGrid((3, 4), 10)


# plot nodes





# plot links





# plot cells








# find number of nodes
rmg.number_of_nodes





# find number of core nodes here
rmg.number_of_core_nodes





# get index values of core nodes
rmg.core_nodes





# create elevation field filled with zeros
z = rmg.add_zeros("topographic__elevation", at="node", clobber=True)





# print the data type of "z"
type(z)


# print the length of "z"
len(z)





# set elevation of first core node

# set elevation for next core node

# print array








# visualize topographic elevation field
rmg.imshow("topographic__elevation")





# add soil depth field here





# see all fields associated with grid
rmg.at_node.keys()





# close boundaries
rmg.set_closed_boundaries_at_grid_edges(True, False, True, False)








# check out the nodes and links
plot_graph(rmg, at="node, link")





# create a gradient array
dzdx = rmg.calc_grad_at_link(z)

# print it out
print(dzdx)





# check out values associated with first three horizontal links
dzdx[0:3]





# now check out values associated with first four vertical links
dzdx[3:7]





# get all of the values of horizontal links
dzdx[rmg.horizontal_links]


# get all of the values of vertical links











# create your grid here








# transport coefficient, aka hillslope diffusivity
D = 0.01

# calculate timestep
dt = 0.2 * mg.dx**2 / D

# print timestep
print(dt)





# create elevation field here








# elevate upper half of grid
elev[mg.y_of_node > 120] += 10





# display landscape








# create sediment flux field here








# close left and right boundaries








# write for loop to evolve landscape








# display your final landscape
mg.imshow("topographic__elevation")











from landlab.components import LinearDiffuser





# check out input variable names
LinearDiffuser.input_var_names





# ask for info related to the input variable 'topographic__elevation'
LinearDiffuser.var_help("topographic__elevation")





# recall the question mark notation used to access documentation in Landlab
?LinearDiffuser








# create a new grid here








# add a field of zeros called "topographic__elevation" and attach it to the grid nodes
# save the field to an array with a new name





# now elevate the upper half of the landscape, following the `node_of_y` method used in part (d)





# now display the landscape
new_grid.imshow("topographic__elevation")





# close left and right boundaries
new_grid.set_closed_boundaries_at_grid_edges(True, False, True, False)





# instantiate the linear diffuser component here
diffusion_model = LinearDiffuser(new_grid)





# create your for loop here
# hint: you only need two lines of code in this cell to run the model








# visualize landscape
new_grid.imshow("topographic__elevation")





# check out the optional variables
?LinearDiffuser






