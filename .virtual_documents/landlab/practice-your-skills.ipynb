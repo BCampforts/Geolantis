











import numpy as np
from matplotlib import pyplot as plt

europe_coast = np.loadtxt("data/EuropePoints_xp25_ym30.csv", delimiter=",")
volcano_x, volcano_y = (7, 35)
brussels_x, brussels_y = (30, 21)

plt.figure()
plt.scatter(europe_coast[:, 0], europe_coast[:, 1], s=0.5, c="r")

plt.plot(volcano_x, volcano_y, marker="^", markersize=10)
plt.plot(brussels_x, brussels_y, marker="*", markersize=10)





# (enter your solution to 2b.1 here)








# (enter your solution to 2b.2 here)








# (enter your solution to 2b.3 here)








# (enter your solution to 2b.4 here)








def plot_aerosol(grid, a):
    plt.plot(volcano_x, volcano_y, marker="^", markersize=10)
    plt.plot(brussels_x, brussels_y, marker="*", markersize=10)
    plt.scatter(europe_coast[:, 0], europe_coast[:, 1], s=0.5, c="r")

    # a_plt = np.zeros_like(a)
    # a_plt[:] = a
    a_plt = np.ma.masked_where(a < 1, a)
    grid.imshow(
        a_plt, cmap="inferno_r", color_for_background=None, color_for_closed=None
    )

    # plt.plot(volcano_x, volcano_y, s=5, c="k")
    # plt.plot(brussels_x, brussels_y, s=5, c="g")

    plt.show()


plot_aerosol(europe, europe.at_node["Aerosol"])





C_n = 200
D = 1.5
dx, dy = europe.dx, europe.dy
dt = 0.245 * europe.dx * europe.dx / D
n_steps = 1000
aerosol_at_brussels = np.zeros(n_steps)

















print(f"Number of boundary nodes: {len(europe.boundary_nodes)}")
print(f"Number of core nodes: {len(europe.core_nodes)}")
print(f"Number of nodes: {europe.number_of_nodes}")











plt.figure()
plt.plot(range(n_steps) * dt, aerosol_at_brussels)












