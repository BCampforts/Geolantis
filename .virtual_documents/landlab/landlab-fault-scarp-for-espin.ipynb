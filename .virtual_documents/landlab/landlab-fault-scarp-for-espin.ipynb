














import matplotlib.pyplot as plt
import numpy as np





dx = 1
x = np.arange(0, 100, dx, dtype=float)
z = np.zeros(x.shape, dtype=float)
D = 0.01





z[x > 50] += 100





dt = 0.2 * dx * dx / D
total_time = 1e3
n_steps = int(total_time / dt)
z_orig = z.copy()
for _ in range(n_steps):
    qs = -D * np.diff(z) / dx
    dzdt = -np.diff(qs) / dx
    z[1:-1] += dzdt * dt

plt.plot(x, z_orig, label="Original Profile")
plt.plot(x, z, label="Diffused Profile")
plt.legend()








from landlab import RasterModelGrid





from landlab.plot.graph import plot_graph

grid = RasterModelGrid((4, 5), xy_spacing=(3, 4))
plot_graph(grid, at="node")





plot_graph(grid, at="link")





plot_graph(grid, at="cell")








# (enter your solution to 2a.1 here)








# (enter your solution to 2a.2 here)








# (enter your solution to 2a.3 here)








mg = RasterModelGrid((25, 40), xy_spacing=10.0)





z = mg.add_zeros("topographic__elevation", at="node")








plt.plot(mg.x_of_node, mg.y_of_node, ".")





len(z)





fault_trace_y = 50.0 + 0.25 * mg.x_of_node





z[mg.y_of_node > fault_trace_y] += (
    10.0 + 0.01 * mg.x_of_node[mg.y_of_node > fault_trace_y]
)





mg.imshow("topographic__elevation")





D = 0.01  # m2/yr transport coefficient
dt = 0.2 * mg.dx * mg.dx / D
dt





mg.set_closed_boundaries_at_grid_edges(True, False, True, False)





len(mg.core_nodes)





qs = mg.add_zeros("sediment_flux", at="link")





for _ in range(25):
    g = mg.calc_grad_at_link(z)
    qs[mg.active_links] = -D * g[mg.active_links]
    dzdt = -mg.calc_flux_div_at_node(qs)
    z[mg.core_nodes] += dzdt[mg.core_nodes] * dt





mg.imshow("topographic__elevation")








# (enter your solution to 2b.1 here)








# (enter your solution to 2b.2 here)








# (enter your solution to 2b.3 here)








# (enter your solution to 2b.4 here)








# (enter your solution to 2b.5 here)








# (enter your solution to 2b.6 here)








# (enter your solution to 2b.7 here)








# (enter your solution to 2b.8 here)











# (enter your solution to 2c.1 here)








# (enter your solution to 2c.2 here)








# (enter your solution to 2c.3 here)








# (enter your solution to 2c.4 here)








# (enter your solution to 2c.5 here)








# (enter your solution to 2c.6 here)








from landlab import HexModelGrid

mg = HexModelGrid((25, 40), 10, node_layout="rect")
z = mg.add_zeros("topographic__elevation", at="node")
plt.plot(mg.x_of_node, mg.y_of_node, ".")





fault_trace_y = 50.0 + 0.25 * mg.x_of_node
z[mg.y_of_node > fault_trace_y] += (
    10.0 + 0.01 * mg.x_of_node[mg.y_of_node > fault_trace_y]
)
mg.imshow("topographic__elevation")





qs = mg.add_zeros("sediment_flux", at="link")
for _ in range(25):
    g = mg.calc_grad_at_link(z)
    qs[mg.active_links] = -D * g[mg.active_links]
    dzdt = -mg.calc_flux_div_at_node(qs)
    z[mg.core_nodes] += dzdt[mg.core_nodes] * dt
mg.imshow("topographic__elevation")





# (enter your solution to 3.1 here)





# (enter your solution to 3.2 here)





# (enter your solution to 3.3 here)





# (enter your solution to 3.4 here)





# (enter your solution to 3.5 here)





# (enter your solution to 3.6 here)








from landlab.components import LinearDiffuser

mg = HexModelGrid((25, 40), 10, node_layout="rect")
z = mg.add_zeros("topographic__elevation", at="node")
fault_trace_y = 50.0 + 0.25 * mg.x_of_node
z[mg.y_of_node > fault_trace_y] += (
    10.0 + 0.01 * mg.x_of_node[mg.y_of_node > fault_trace_y]
)





ld = LinearDiffuser(mg, linear_diffusivity=D)





for _ in range(25):
    ld.run_one_step(dt)
mg.imshow("topographic__elevation")





# (enter your solution to 4.1 here)








# (enter your solution to 4.2 here)








# (enter your solution to 4.3 here)











# (enter your solution to the bonus challenge question here)








rmg = RasterModelGrid((40, 40), 10)
z = rmg.add_zeros("topographic__elevation", at="node")
rmg.set_closed_boundaries_at_grid_edges(False, True, False, True)  # closed on N and S
ld = LinearDiffuser(rmg, linear_diffusivity=D)
for _ in range(4000):
    ld.run_one_step(dt)
    z[rmg.core_nodes] += dt * uplift_rate
rmg.imshow("topographic__elevation")


plt.plot(rmg.x_of_node, z, ".")
plt.plot(x_analytic, z_analytic, "r")






