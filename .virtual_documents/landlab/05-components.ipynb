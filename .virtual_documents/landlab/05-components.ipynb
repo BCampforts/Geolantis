








from landlab.components import COMPONENTS

[component.__name__ for component in COMPONENTS]








from landlab import RasterModelGrid
from landlab.components import LinearDiffuser





# check out input variable names
LinearDiffuser.input_var_names





# ask for info related to the input variable 'topographic__elevation'
LinearDiffuser.var_help("topographic__elevation")





# recall the question mark notation used to access documentation in Landlab
?LinearDiffuser








# create a new grid here


grid = RasterModelGrid((25, 25), 10)





# add a field of zeros called "topographic__elevation" and attach it to the grid nodes
# save the field to an array with a new name
z = grid.add_zeros("topographic__elevation", at="node")


# now elevate the upper half of the landscape, following the `node_of_y` method used in part (d) and plot the result























# instantiate the linear diffuser component here
diffusion_model = LinearDiffuser(grid)





# create your for loop here
# hint: you only need two lines of code in this cell to run the model




















# check out the optional variables
?LinearDiffuser









