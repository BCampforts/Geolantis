


from landlab import RasterModelGrid, imshow_grid, imshowhs_grid
from landlab.components import FlowAccumulator, FastscapeEroder
import matplotlib.pyplot as plt
import numpy as np





grid = RasterModelGrid((200,200), xy_spacing =200, xy_axis_units='meters',)





z = grid.add_zeros('topographic__elevation', at='node')
z += np.random.rand(len(z))





imshow_grid(grid, z)





fr = FlowAccumulator(grid, 'topographic__elevation',flow_director = 'D8')
eroder = FastscapeEroder(grid, K_sp=0.0001)





imshow_grid(grid,eroder.K)


t = 0
t_total = 2e4
dt = 100
z[grid.core_nodes] = np.random.rand(len(z[grid.core_nodes]))
while t<t_total: 
    # if t>t_total/2:
    #     K_new = np.array(eroder.K)
    #     K_new[grid.x_of_node>20000]= 0.002
    #     eroder = FastscapeEroder(grid,K_sp=K_new)
    z[grid.core_nodes] += 0.001*dt
    fr.run_one_step()
    eroder.run_one_step(dt)
    t+= dt
    if np.mod(t, 5000) ==0:
        imshow_grid(grid, z) 
        plt.title('Time is %i years'%t)
        plt.show()
imshow_grid(grid, z) 
plt.title('Time is %i years'%t)
plt.show()





imshowhs_grid(grid,z,altdeg = 0)



